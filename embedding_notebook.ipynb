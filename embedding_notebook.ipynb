{
 "cells": [
  {
   "cell_type": "markdown",
   "metadata": {},
   "source": [
    "#### Section 1. Import the necessary libraries and modules"
   ]
  },
  {
   "cell_type": "code",
   "execution_count": 1,
   "metadata": {},
   "outputs": [],
   "source": [
    "import os\n",
    "import numpy as np\n",
    "import openai\n",
    "from openai import OpenAI\n",
    "import pandas as pd\n",
    "import tiktoken\n",
    "import nltk\n",
    "import ssl\n",
    "import pandas \n",
    "import json\n",
    "import boto3\n",
    "from get_secret import get_secret"
   ]
  },
  {
   "cell_type": "code",
   "execution_count": 2,
   "metadata": {},
   "outputs": [],
   "source": [
    "# retrieve the secret key and set it as an environment variable\n",
    "key = get_secret()\n",
    "key = json.loads(key)\n",
    "api_key = key['OPENAI_API_KEY']\n",
    "os.environ['OPENAI_API_KEY'] = api_key\n",
    "client = OpenAI()"
   ]
  },
  {
   "cell_type": "markdown",
   "metadata": {},
   "source": [
    "#### Section 2. Define the function to embedding the text\n",
    "* default model = \"text-embedding-3-small\""
   ]
  },
  {
   "cell_type": "code",
   "execution_count": 7,
   "metadata": {},
   "outputs": [],
   "source": [
    "def get_embedding(text, model=\"text-embedding-3-small\"):\n",
    "    text = text.replace(\"\\n\", \" \")\n",
    "    return client.embeddings.create(input = [text], model = model).data[0].embedding"
   ]
  },
  {
   "cell_type": "markdown",
   "metadata": {},
   "source": [
    "#### Section 3. Read in the ready-to-use file, embedding, and export"
   ]
  },
  {
   "cell_type": "code",
   "execution_count": 6,
   "metadata": {},
   "outputs": [],
   "source": [
    "# get a list of files in the rawtext folder\n",
    "files = os.listdir('rawtext')\n",
    "\n",
    "# read in the josn file from the rawtext folder\n",
    "for file in files:\n",
    "    with open('rawtext/' + file, 'r') as f:\n",
    "        essay = json.load(f)\n",
    "\n",
    "        # try embedding the text\n",
    "        try:\n",
    "            df = pd.DataFrame({'combined': essay})\n",
    "            df['my_embedding'] = df.combined.apply(lambda x: get_embedding(x))\n",
    "            # export to a folder called embeded for future use\n",
    "            df.to_csv('embedded_text/essay2.csv', index=False)\n",
    "\n",
    "        except:\n",
    "            print('error with embedding')\n",
    "            continue\n"
   ]
  }
 ],
 "metadata": {
  "kernelspec": {
   "display_name": ".venv",
   "language": "python",
   "name": "python3"
  },
  "language_info": {
   "codemirror_mode": {
    "name": "ipython",
    "version": 3
   },
   "file_extension": ".py",
   "mimetype": "text/x-python",
   "name": "python",
   "nbconvert_exporter": "python",
   "pygments_lexer": "ipython3",
   "version": "3.12.1"
  }
 },
 "nbformat": 4,
 "nbformat_minor": 2
}
