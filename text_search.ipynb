{
 "cells": [
  {
   "cell_type": "code",
   "execution_count": 22,
   "metadata": {},
   "outputs": [],
   "source": [
    "import pandas as pd\n",
    "import json\n",
    "from fuzzywuzzy import fuzz\n",
    "import os\n",
    "import numpy as np\n",
    "import openai\n",
    "from openai import OpenAI\n",
    "import pandas as pd\n",
    "import tiktoken\n",
    "import nltk\n",
    "import ssl\n",
    "import json\n",
    "import boto3\n",
    "from get_secret import get_secret"
   ]
  },
  {
   "cell_type": "code",
   "execution_count": 3,
   "metadata": {},
   "outputs": [],
   "source": [
    "with open(\"rawtext/essay1.json\", \"r\") as file:\n",
    "    essay1_data = json.load(file)\n"
   ]
  },
  {
   "cell_type": "code",
   "execution_count": 11,
   "metadata": {},
   "outputs": [],
   "source": [
    "def find_sentences_with_keywords(sentences, example_keywords, threshold=80):\n",
    "    example_sentences = []\n",
    "    for sentence in sentences:\n",
    "        for keyword in example_keywords:\n",
    "            if fuzz.partial_ratio(keyword, sentence.lower()) >= threshold:\n",
    "                example_sentences.append(sentence)\n",
    "                break\n",
    "    return example_sentences"
   ]
  },
  {
   "cell_type": "code",
   "execution_count": 12,
   "metadata": {},
   "outputs": [],
   "source": [
    "example_keywords = [\"for example\", \"for instance\", \"an example of\"]"
   ]
  },
  {
   "cell_type": "code",
   "execution_count": 13,
   "metadata": {},
   "outputs": [],
   "source": [
    "essay1_examples = find_sentences_with_keywords(essay1_data, example_keywords)"
   ]
  },
  {
   "cell_type": "code",
   "execution_count": 14,
   "metadata": {},
   "outputs": [
    {
     "name": "stdout",
     "output_type": "stream",
     "text": [
      "Example sentences from Article 1:\n",
      "Example 1: Choic e architectur e changes how a decision maker perceives options.For \n",
      "example, changing a tipping system to default the consumer paying 20% gratuity.\n",
      "\n",
      "Example 2: No human is completely \n",
      "autonomous.There are certain groups that have more autonomy than others.For example, the US has \n",
      "freedoms that apply to all citizens that most countries do not allow.\n",
      "\n",
      "Example 3: This is an example of how giving up autonomy can be a \n",
      "positive for the collective welfare of peoples.Let’s discuss another example, better grades.A common pitfall of college students are low \n",
      "grades.\n",
      "\n",
      "Example 4: In this case, the \n",
      "nudge caused no infringement and had a large benefit.A perfect nudge.Another example, social media.To access social media websites, one needs to  agree to terms of \n",
      "service.\n",
      "\n",
      "Example 5: Take for example the social media \n",
      "nudges.They nudged people into agreeing to terms of service without full understanding.Some might \n",
      "argue that having access to the platform connects humans in ways they can never achieve without it.\n",
      "\n"
     ]
    }
   ],
   "source": [
    "print(\"Example sentences from Article 1:\")\n",
    "for i, example in enumerate(essay1_examples):\n",
    "    print(f\"Example {i+1}: {example}\\n\")\n"
   ]
  },
  {
   "cell_type": "code",
   "execution_count": 44,
   "metadata": {},
   "outputs": [],
   "source": [
    "key = get_secret()\n",
    "key = json.loads(key)\n",
    "api_key = key['OPENAI_API_KEY']\n",
    "os.environ['OPENAI_API_KEY'] = api_key\n",
    "openai.api_key = api_key\n",
    "client = OpenAI()\n"
   ]
  },
  {
   "cell_type": "code",
   "execution_count": 55,
   "metadata": {},
   "outputs": [],
   "source": [
    "def get_embedding(text, model=\"text-embedding-3-small\"):\n",
    "    response = client.embeddings.create(input = essay1_examples, model=\"text-embedding-3-small\").data[0].embedding\n",
    "    return response"
   ]
  },
  {
   "cell_type": "code",
   "execution_count": 56,
   "metadata": {},
   "outputs": [
    {
     "ename": "AttributeError",
     "evalue": "'list' object has no attribute 'embedding'",
     "output_type": "error",
     "traceback": [
      "\u001b[0;31m---------------------------------------------------------------------------\u001b[0m",
      "\u001b[0;31mAttributeError\u001b[0m                            Traceback (most recent call last)",
      "Cell \u001b[0;32mIn[56], line 1\u001b[0m\n\u001b[0;32m----> 1\u001b[0m res1 \u001b[38;5;241m=\u001b[39m \u001b[43mget_embedding\u001b[49m\u001b[43m(\u001b[49m\u001b[43messay1_examples\u001b[49m\u001b[43m)\u001b[49m\n",
      "Cell \u001b[0;32mIn[55], line 2\u001b[0m, in \u001b[0;36mget_embedding\u001b[0;34m(text, model)\u001b[0m\n\u001b[1;32m      1\u001b[0m \u001b[38;5;28;01mdef\u001b[39;00m \u001b[38;5;21mget_embedding\u001b[39m(text, model\u001b[38;5;241m=\u001b[39m\u001b[38;5;124m\"\u001b[39m\u001b[38;5;124mtext-embedding-3-small\u001b[39m\u001b[38;5;124m\"\u001b[39m):\n\u001b[0;32m----> 2\u001b[0m     response \u001b[38;5;241m=\u001b[39m \u001b[43mclient\u001b[49m\u001b[38;5;241;43m.\u001b[39;49m\u001b[43membeddings\u001b[49m\u001b[38;5;241;43m.\u001b[39;49m\u001b[43mcreate\u001b[49m\u001b[43m(\u001b[49m\u001b[38;5;28;43minput\u001b[39;49m\u001b[43m \u001b[49m\u001b[38;5;241;43m=\u001b[39;49m\u001b[43m \u001b[49m\u001b[43messay1_examples\u001b[49m\u001b[43m,\u001b[49m\u001b[43m \u001b[49m\u001b[43mmodel\u001b[49m\u001b[38;5;241;43m=\u001b[39;49m\u001b[38;5;124;43m\"\u001b[39;49m\u001b[38;5;124;43mtext-embedding-3-small\u001b[39;49m\u001b[38;5;124;43m\"\u001b[39;49m\u001b[43m)\u001b[49m\u001b[38;5;241;43m.\u001b[39;49m\u001b[43mdata\u001b[49m\u001b[38;5;241;43m.\u001b[39;49m\u001b[43membedding\u001b[49m\n\u001b[1;32m      3\u001b[0m     \u001b[38;5;28;01mreturn\u001b[39;00m response\n",
      "\u001b[0;31mAttributeError\u001b[0m: 'list' object has no attribute 'embedding'"
     ]
    }
   ],
   "source": [
    "res1 = get_embedding(essay1_examples)"
   ]
  }
 ],
 "metadata": {
  "kernelspec": {
   "display_name": ".venv",
   "language": "python",
   "name": "python3"
  },
  "language_info": {
   "codemirror_mode": {
    "name": "ipython",
    "version": 3
   },
   "file_extension": ".py",
   "mimetype": "text/x-python",
   "name": "python",
   "nbconvert_exporter": "python",
   "pygments_lexer": "ipython3",
   "version": "3.12.1"
  }
 },
 "nbformat": 4,
 "nbformat_minor": 2
}
